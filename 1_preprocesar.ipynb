{
 "cells": [
  {
   "cell_type": "markdown",
   "id": "d14c3f35",
   "metadata": {},
   "source": [
    "# Preprocesado de datasets\n",
    "En este cuaderno, se encarga de convertir todas las imágenes a formto `.png` con una estructura de carpetas homogénea. Se trabaja con dos conjuntos de datos:\n",
    "  - **Conjunto de entrenamiento**: imágenes del dataset NHANES II (radiografías y respectivas máscaras).\n",
    "  - **Conjunto clínico externo**: imágenes de rayos X proporcionadas por el Dr. Julio Manuel Plata Bello (sin máscaras).\n",
    "\n",
    "Se asegura que todas las imágenes estén en el mismo formato para su uso posterior en el entrenamiento de modelos y en el análisis clínico."
   ]
  },
  {
   "cell_type": "code",
   "execution_count": null,
   "id": "c03fdd0a-085e-4f47-8561-40173a65cd8c",
   "metadata": {},
   "outputs": [],
   "source": [
    "import os\n",
    "import cv2\n",
    "import numpy as np\n",
    "from PIL import Image\n",
    "import pickle as pkl"
   ]
  },
  {
   "cell_type": "markdown",
   "id": "ce6818b8",
   "metadata": {},
   "source": [
    "## Configuración de rutas y funciones de utilidad\n",
    "Se definen rutas de entrada y salida, así como funciones auxiliares para convertir imágenes `.pkl` y `.jpg` a `.png`."
   ]
  },
  {
   "cell_type": "code",
   "execution_count": null,
   "id": "f4e8c5f7",
   "metadata": {},
   "outputs": [],
   "source": [
    "ruta_original = 'dataset_original' # Carpeta donde se encuentran las imagenes originales\n",
    "ruta_procesado = 'dataset_procesado' # Carpeta donde se guardaran las imagenes procesadas\n",
    "\n",
    "con_mascara = 'dataset_con_mascara' # Carpeta donde se encuentran las imagenes con mascara\n",
    "sin_mascara = 'dataset_sin_mascara' # Carpeta donde se encuentran las imagenes sin mascara\n",
    "\n",
    "# Subcarpetas\n",
    "imagenes = 'imagenes'\n",
    "mascaras = 'mascaras'\n",
    "\n",
    "cervical = 'cervical'\n",
    "lumbar = 'lumbar'\n",
    "columna = 'columna_completa'"
   ]
  },
  {
   "cell_type": "markdown",
   "id": "73d83fc4",
   "metadata": {},
   "source": [
    "### Conversión de imágenes\n",
    "Se procesan las imágenes de entrenamiento (con máscara) y las de prueba clínica (sin máscara), guardando los resultados en carpetas separadas bajo una estructura coherente basada en regiones, lo que permitirá su uso en los tres modelos que se probarán.\n",
    "\n",
    "#### Preprocesado del dataset NHANES II\n",
    "Las imágenes radiográficas se convierten de `.pkl` a `.png`.\n",
    "\n",
    "Las máscaras también se pasan a `.png` pero, los píxeles toman valor binario:\n",
    "  - 0: fondo\n",
    "  - 1: vértebra"
   ]
  },
  {
   "cell_type": "code",
   "execution_count": 3,
   "id": "20042e2d",
   "metadata": {},
   "outputs": [],
   "source": [
    "def pkl_2_png_con_mascara(ruta_entrada, ruta_salida):\n",
    "  cervical_img = os.path.join(ruta_salida, 'cervical', imagenes)\n",
    "  cervical_masc = os.path.join(ruta_salida, 'cervical', mascaras)\n",
    "  lumbar_img = os.path.join(ruta_salida, 'lumbar', imagenes)\n",
    "  lumbar_masc = os.path.join(ruta_salida, 'lumbar', mascaras)\n",
    "\n",
    "  rutas_salida = [cervical_img, cervical_masc, lumbar_img, lumbar_masc] \n",
    "\n",
    "  for ruta in rutas_salida:\n",
    "    if not os.path.exists(ruta):\n",
    "      os.makedirs(ruta)\n",
    "  \n",
    "  for nombre_fichero in os.listdir(ruta_entrada):\n",
    "    if nombre_fichero.endswith('.pkl'):\n",
    "      ruta_imagen = ''\n",
    "      ruta_mascara = ''\n",
    "      if 'cervical' in nombre_fichero.lower().split('_'):\n",
    "        ruta_imagen = cervical_img\n",
    "        ruta_mascara = cervical_masc\n",
    "      else:\n",
    "        ruta_imagen = lumbar_img\n",
    "        ruta_mascara = lumbar_masc\n",
    "\n",
    "      ruta_fichero = os.path.join(ruta_entrada, nombre_fichero)\n",
    "\n",
    "      with open(ruta_fichero, 'rb') as fichero:\n",
    "        dato = pkl.load(fichero)\n",
    "\n",
    "      imagen = dato['image']\n",
    "      mascara = dato['masks']['vertebrae']\n",
    "\n",
    "      # Guardamos la imagen\n",
    "      png_imagen = Image.fromarray(imagen)\n",
    "      ruta_png_imagen = os.path.join(ruta_imagen, nombre_fichero.replace('_masks_4.pkl', '.png'))\n",
    "      png_imagen.save(ruta_png_imagen)\n",
    "\n",
    "      # Guardamos la máscara binaria\n",
    "      png_mascara = Image.fromarray((mascara).astype(np.uint8)) # Convertimos a uint8 para que se guarde correctamente\n",
    "      ruta_png_mascara = os.path.join(ruta_mascara, nombre_fichero.replace('_masks_4.pkl', '.png'))\n",
    "      png_mascara.save(ruta_png_mascara)"
   ]
  },
  {
   "cell_type": "code",
   "execution_count": 4,
   "id": "fbdd0483",
   "metadata": {},
   "outputs": [],
   "source": [
    "# Ruta de los datos originales\n",
    "dataset = 'NHANESII_Annotations_VertebralOsetophytes/nhanes'\n",
    "ruta_entrada = os.path.join(ruta_original, dataset)\n",
    "\n",
    "# Rutas de salida de las imágenes y máscaras\n",
    "ruta_salida = os.path.join(ruta_procesado, con_mascara)\n",
    "\n",
    "# Convertimos los ficheros pkl a png\n",
    "pkl_2_png_con_mascara(ruta_entrada, ruta_salida)"
   ]
  },
  {
   "cell_type": "markdown",
   "id": "9e607d16",
   "metadata": {},
   "source": [
    "#### Preprocesado de dataset Rxs\n",
    "En este caso, solo se dispone de imágenes radiográficas `.jpg` sin máscara, estas se usaran solo para realizar pruebas y comprobaciones.\n",
    "El preprocesado que se debe realizar es, cambiar su formato a `.png`."
   ]
  },
  {
   "cell_type": "code",
   "execution_count": 12,
   "id": "c84732c0",
   "metadata": {},
   "outputs": [],
   "source": [
    "def jpg_2_png(ruta_entrada, ruta_salida, es_gris=True):\n",
    "  if not os.path.exists(ruta_salida):\n",
    "    os.makedirs(ruta_salida)\n",
    "\n",
    "  for nombre_fichero in os.listdir(ruta_entrada):\n",
    "    if nombre_fichero.endswith('.jpg'):\n",
    "      ruta_fichero = os.path.join(ruta_entrada, nombre_fichero)\n",
    "      \n",
    "      if es_gris:\n",
    "        imagen = cv2.imread(ruta_fichero, cv2.IMREAD_GRAYSCALE)\n",
    "      else:\n",
    "        pil_imagen = Image.open(ruta_fichero).convert('L') # Convertimos a escala de grises\n",
    "        imagen = np.array(pil_imagen).astype(np.uint8)\n",
    "        imagen = cv2.cvtColor(imagen, cv2.COLOR_GRAY2BGR)\n",
    "\n",
    "      if imagen is not None:\n",
    "        png_imagen = Image.fromarray(imagen)\n",
    "        ruta_imagen = os.path.join(ruta_salida, nombre_fichero.replace('.jpg', '.png'))\n",
    "        png_imagen.save(ruta_imagen)"
   ]
  },
  {
   "cell_type": "code",
   "execution_count": null,
   "id": "5518d179",
   "metadata": {},
   "outputs": [],
   "source": [
    "# Ruta de los datos originales\n",
    "dataset = 'Rxs'\n",
    "ruta_entrada_cervical = os.path.join(ruta_original, dataset, cervical)\n",
    "ruta_entrada_lumbar = os.path.join(ruta_original, dataset, lumbar)\n",
    "ruta_entrada_columna = os.path.join(ruta_original, dataset, columna)\n",
    "\n",
    "# Rutas de salida de las imágenes y máscaras\n",
    "ruta_salida_cervical = os.path.join(ruta_procesado, sin_mascara, cervical, imagenes)\n",
    "ruta_salida_lumbar = os.path.join(ruta_procesado, sin_mascara, lumbar, imagenes)\n",
    "ruta_salida_columna = os.path.join(ruta_procesado, sin_mascara, columna, imagenes)\n",
    "\n",
    "# Convertimos los ficheros jpg a png\n",
    "jpg_2_png(ruta_entrada_cervical, ruta_salida_cervical)\n",
    "jpg_2_png(ruta_entrada_lumbar, ruta_salida_lumbar)\n",
    "jpg_2_png(ruta_entrada_columna, ruta_salida_columna, False)"
   ]
  }
 ],
 "metadata": {
  "kernelspec": {
   "display_name": "tf_gpu",
   "language": "python",
   "name": "python3"
  },
  "language_info": {
   "codemirror_mode": {
    "name": "ipython",
    "version": 3
   },
   "file_extension": ".py",
   "mimetype": "text/x-python",
   "name": "python",
   "nbconvert_exporter": "python",
   "pygments_lexer": "ipython3",
   "version": "3.10.16"
  }
 },
 "nbformat": 4,
 "nbformat_minor": 5
}
